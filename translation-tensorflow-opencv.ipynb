{
 "cells": [
  {
   "cell_type": "code",
   "execution_count": 3,
   "metadata": {
    "collapsed": false,
    "deletable": true,
    "editable": true
   },
   "outputs": [],
   "source": [
    "import tensorflow as tf\n",
    "import helper as hp\n",
    "import os\n",
    "import pandas as pd\n",
    "import matplotlib.pyplot as plt\n",
    "import numpy as np\n",
    "from IPython.display import Image\n",
    "from IPython.core.display import HTML\n",
    "import pickle\n",
    "import copy\n",
    "%matplotlib inline\n",
    "import sys\n",
    "#sys.path.append('/home/cesar/anaconda2/lib/python2.7/site-packages/cv2.so')\n",
    "import cv2"
   ]
  },
  {
   "cell_type": "code",
   "execution_count": 5,
   "metadata": {
    "collapsed": false,
    "deletable": true,
    "editable": true
   },
   "outputs": [],
   "source": [
    "#%run ./TrainAndTest.py"
   ]
  },
  {
   "cell_type": "markdown",
   "metadata": {
    "deletable": true,
    "editable": true
   },
   "source": [
    "## Path to Data"
   ]
  },
  {
   "cell_type": "markdown",
   "metadata": {
    "deletable": true,
    "editable": true
   },
   "source": [
    "To begin the translation is made only with a small text from english to spanish, since the training might take days even weeks using a real dictionary."
   ]
  },
  {
   "cell_type": "code",
   "execution_count": 7,
   "metadata": {
    "collapsed": false,
    "deletable": true,
    "editable": true
   },
   "outputs": [],
   "source": [
    "\n",
    "input_path = 'small_vocab_en'\n",
    "target_path = 'small_vocab_fr'\n",
    "#Padding since not all senteces will have the same size, EOS is the end of sentence\n",
    "CODES = {'<PAD>': 0, '<EOS>': 1, '<UNK>': 2, '<GO>': 3}\n",
    "\n",
    "import io"
   ]
  },
  {
   "cell_type": "code",
   "execution_count": 8,
   "metadata": {
    "collapsed": true,
    "deletable": true,
    "editable": true
   },
   "outputs": [],
   "source": [
    "def data_load(path):\n",
    "    files = os.path.join(path)\n",
    "    files = files.encode('utf-8')\n",
    "    with open(path, 'r') as f:\n",
    "        data = f.read()\n",
    "    return data"
   ]
  },
  {
   "cell_type": "code",
   "execution_count": 10,
   "metadata": {
    "collapsed": false,
    "deletable": true,
    "editable": true
   },
   "outputs": [],
   "source": [
    "\n",
    "\n",
    "## Loading the two small texts\n",
    "input_file = data_load(input_path)\n",
    "target_file = data_load(target_path)\n",
    "#spanish_file = spanish_file.encode('utf')"
   ]
  },
  {
   "cell_type": "code",
   "execution_count": 11,
   "metadata": {
    "collapsed": false,
    "deletable": true,
    "editable": true
   },
   "outputs": [
    {
     "name": "stdout",
     "output_type": "stream",
     "text": [
      "10135742\n"
     ]
    }
   ],
   "source": [
    "x = len(target_file)\n",
    "print(x)\n",
    "x = int(x)\n"
   ]
  },
  {
   "cell_type": "code",
   "execution_count": 12,
   "metadata": {
    "collapsed": false,
    "deletable": true,
    "editable": true
   },
   "outputs": [
    {
     "name": "stdout",
     "output_type": "stream",
     "text": [
      "new jersey est parfois calme pendant l' automne , et il est neigeux en avril .\n",
      "les états-unis est généralement froid en juillet , et il gèle habituellement en novembre .\n",
      "california est généralement calme en mars , et il est généralement chaud en juin .\n",
      "les états-unis est parfois légère en juin , et il fait froid en septembre .\n",
      "votre moins aimé fruit est le raisin , mais mon moins aimé est la pomme .\n",
      "son fruit préféré est l'orange , mais mon préféré est le raisin .\n",
      "paris est relaxant en décembre , mais il est généralement froid en juillet .\n",
      "new jersey est occupé au printemps , et il est jamais chaude en mars .\n",
      "notre fruit est moins aimé le citron , mais mon moins aimé est le raisin .\n",
      "les états-unis est parfois occupé en janvier , et il est parfois chaud en novembre .\n",
      "la chaux est son moins aimé des fruits , mais la banane est mon moins aimé.\n",
      "il a vu un vieux camion jaune .\n",
      "inde est pluvieux en juin , et il est parfois chaud en novembre .\n",
      "ce chat était mon a\n"
     ]
    }
   ],
   "source": [
    "print(target_file[:1000])\n",
    "#eng_file = hp.load_file(input_file[:x])\n",
    "#spanish_file = hp.load_file(target_file[:x])"
   ]
  },
  {
   "cell_type": "code",
   "execution_count": 13,
   "metadata": {
    "collapsed": false,
    "deletable": true,
    "editable": true
   },
   "outputs": [
    {
     "name": "stdout",
     "output_type": "stream",
     "text": [
      "new jersey is sometimes quiet during autumn , and it is snowy in april .\n",
      "the united states is usually chilly during july , and it is usually freezing in november .\n",
      "california is usually quiet during march , and it is usually hot in june .\n",
      "the united states is sometimes mild during june , and it is cold in september .\n",
      "your least liked fruit is the grape , but my least liked is the apple .\n",
      "his favorite fruit is the orange , but my favorite is the grape .\n",
      "paris is relaxing during december , but it is usually chilly in july .\n",
      "new jersey is busy during spring , and it is never hot in march .\n",
      "our least liked fruit is the lemon , but my least liked is the grape .\n",
      "the united states is sometimes busy during january , and it is sometimes warm in november .\n",
      "the lime is her least liked fruit , but the banana is my least liked .\n",
      "he saw a old yellow truck .\n",
      "india is rainy during june , and it is sometimes warm in november .\n",
      "that cat was my most loved animal .\n",
      "he dislikes grapefruit , limes , and lem\n"
     ]
    }
   ],
   "source": [
    "print(input_file[:1000])"
   ]
  },
  {
   "cell_type": "markdown",
   "metadata": {
    "deletable": true,
    "editable": true
   },
   "source": [
    "## Counting number of unique words and sentences"
   ]
  },
  {
   "cell_type": "code",
   "execution_count": 14,
   "metadata": {
    "collapsed": false,
    "deletable": true,
    "editable": true
   },
   "outputs": [],
   "source": [
    "unique_words_inp = len({word: None for word in input_file.split()})\n",
    "unique_words_tg = len({word: None for word in target_file.split()})\n",
    "#words_inp = len({word:+1 for word in input_file.split()})\n"
   ]
  },
  {
   "cell_type": "code",
   "execution_count": 15,
   "metadata": {
    "collapsed": false,
    "deletable": true,
    "editable": true
   },
   "outputs": [
    {
     "name": "stdout",
     "output_type": "stream",
     "text": [
      "Number of unique words in English is :227 and Spanish is :355\n"
     ]
    }
   ],
   "source": [
    "print('Number of unique words in English is :{} and Spanish is :{}'.format(unique_words_inp, unique_words_tg))"
   ]
  },
  {
   "cell_type": "code",
   "execution_count": 16,
   "metadata": {
    "collapsed": false,
    "deletable": true,
    "editable": true
   },
   "outputs": [],
   "source": [
    "sentences_inp = input_file.split('\\n')\n",
    "sentences_tg = target_file.split('\\n')"
   ]
  },
  {
   "cell_type": "code",
   "execution_count": 17,
   "metadata": {
    "collapsed": false,
    "deletable": true,
    "editable": true
   },
   "outputs": [
    {
     "name": "stdout",
     "output_type": "stream",
     "text": [
      "Number of sentences in English is: 137861\n",
      "Number of sentences in Spanish is: 137861\n"
     ]
    }
   ],
   "source": [
    "print('Number of sentences in English is: {}'. format(len(sentences_inp)))\n",
    "print('Number of sentences in Spanish is: {}'. format(len(sentences_tg)))"
   ]
  },
  {
   "cell_type": "code",
   "execution_count": 18,
   "metadata": {
    "collapsed": false,
    "deletable": true,
    "editable": true
   },
   "outputs": [],
   "source": [
    "\n",
    "words_target = [len(sentence.split()) for sentence in sentences_tg]\n",
    "words_input = [len(sentence.split()) for sentence in sentences_inp]\n",
    "avg_words_inp = (np.average(words_target))\n",
    "avg_words_tg = (np.average(words_input))"
   ]
  },
  {
   "cell_type": "code",
   "execution_count": 19,
   "metadata": {
    "collapsed": false,
    "deletable": true,
    "editable": true
   },
   "outputs": [
    {
     "name": "stdout",
     "output_type": "stream",
     "text": [
      "Average number of words in English in a sentence 14.2266123124\n",
      "Average number of words in Spanish in a sentence 13.2252776347\n"
     ]
    }
   ],
   "source": [
    "#number of words and average of words\n",
    "\n",
    "print('Average number of words in English in a sentence {}'.format(avg_words_inp))\n",
    "print('Average number of words in Spanish in a sentence {}'.format(avg_words_tg))"
   ]
  },
  {
   "cell_type": "code",
   "execution_count": 20,
   "metadata": {
    "collapsed": false,
    "deletable": true,
    "editable": true
   },
   "outputs": [
    {
     "name": "stdout",
     "output_type": "stream",
     "text": [
      "Longest sentence in Spanish 17\n",
      "Longest sentence in English 23\n"
     ]
    }
   ],
   "source": [
    "print('Longest sentence in Spanish {}'. format(max(words_input)))\n",
    "print('Longest sentence in English {}'. format(max(words_target)))"
   ]
  },
  {
   "cell_type": "markdown",
   "metadata": {
    "deletable": true,
    "editable": true
   },
   "source": [
    "# Stats for words in English"
   ]
  },
  {
   "cell_type": "raw",
   "metadata": {
    "collapsed": false,
    "deletable": true,
    "editable": true
   },
   "source": [
    "stats_inp = pd.DataFrame(data=words_input, columns=['words'])\n",
    "stats_target = pd.DataFrame(data=words_target, columns=['words'])\n",
    "stats_inp.describe()\n"
   ]
  },
  {
   "cell_type": "code",
   "execution_count": null,
   "metadata": {
    "collapsed": true,
    "deletable": true,
    "editable": true
   },
   "outputs": [],
   "source": []
  },
  {
   "cell_type": "markdown",
   "metadata": {
    "deletable": true,
    "editable": true
   },
   "source": [
    "# Stats for words in Spanish"
   ]
  },
  {
   "cell_type": "code",
   "execution_count": 21,
   "metadata": {
    "collapsed": false,
    "deletable": true,
    "editable": true
   },
   "outputs": [
    {
     "ename": "NameError",
     "evalue": "name 'stats_target' is not defined",
     "output_type": "error",
     "traceback": [
      "\u001b[0;31m---------------------------------------------------------------------------\u001b[0m",
      "\u001b[0;31mNameError\u001b[0m                                 Traceback (most recent call last)",
      "\u001b[0;32m<ipython-input-21-574a79d85abd>\u001b[0m in \u001b[0;36m<module>\u001b[0;34m()\u001b[0m\n\u001b[0;32m----> 1\u001b[0;31m \u001b[0mstats_target\u001b[0m\u001b[0;34m.\u001b[0m\u001b[0mdescribe\u001b[0m\u001b[0;34m(\u001b[0m\u001b[0;34m)\u001b[0m\u001b[0;34m\u001b[0m\u001b[0m\n\u001b[0m",
      "\u001b[0;31mNameError\u001b[0m: name 'stats_target' is not defined"
     ]
    }
   ],
   "source": [
    "stats_target.describe()"
   ]
  },
  {
   "cell_type": "code",
   "execution_count": 24,
   "metadata": {
    "collapsed": true,
    "deletable": true,
    "editable": true
   },
   "outputs": [],
   "source": [
    "def create_lookup_tables(xfile):\n",
    "        #split text file without repetition\n",
    "        vocab = set(xfile.split())\n",
    "        \n",
    "        #starting our table with CODES created on the second shell of this script, with PAD, EOS, etc\n",
    "        \n",
    "        vocab_int = copy.copy(CODES)\n",
    "        for key, value in enumerate(vocab, len(CODES)):\n",
    "            vocab_int[value] = key\n",
    "            \n",
    "        #We do the inverse process now, swapping keys and values   \n",
    "        int_to_vocab = {key:value for value, key in vocab_int.items()} \n",
    "        return vocab_int, int_to_vocab"
   ]
  },
  {
   "cell_type": "code",
   "execution_count": 25,
   "metadata": {
    "collapsed": true,
    "deletable": true,
    "editable": true
   },
   "outputs": [],
   "source": [
    "def preprocess_data_save(input_path, target_path, text_ids):\n",
    "        #loading files into variables\n",
    "        input_text = data_load(input_path)\n",
    "        target_text = data_load(target_path)\n",
    "        \n",
    "        #changing text files to low case\n",
    "        input_text = input_text.lower()\n",
    "        target_text = target_text.lower()\n",
    "        \n",
    "        #creating lookup table, each word will be represented by a number the two variables returned\n",
    "        #represent a way to check the 'id' of each word, similar to a dic in python (key, value)\n",
    "        input_vocab_to_int, int_input_to_vocab = create_lookup_tables(input_text)\n",
    "        target_vocab_to_int, int_target_to_vocab = create_lookup_tables(target_text)\n",
    "        \n",
    "        input_text, target_text = text_to_ids(input_text, target_text, input_vocab_to_int, target_vocab_to_int)\n",
    "        \n",
    "        \n",
    "        ##Saving Data\n",
    "        \n",
    "        pickle.dump(((input_text, target_text), \n",
    "                     (input_vocab_to_int, target_vocab_to_int), \n",
    "                     (int_input_to_vocab, int_target_to_vocab)), open('preprocess_data.p', 'wb'))\n",
    "        \n",
    "        \n",
    "        \n",
    "    "
   ]
  },
  {
   "cell_type": "code",
   "execution_count": 26,
   "metadata": {
    "collapsed": true,
    "deletable": true,
    "editable": true
   },
   "outputs": [],
   "source": [
    "def text_to_ids(input_txt, target_txt, input_vocab, target_vocab):\n",
    "    \n",
    "    input_text_id = [[input_vocab[word] for word in sentence.split()] for sentence in input_txt.split('\\n')]\n",
    "    target_text_id = [[target_vocab[word] for word in sentence.split()] for \n",
    "                     sentence in target_txt.split('\\n')]\n",
    "    \n",
    "    #in case of not having EOS at the end of sentence add it\n",
    "    for i in target_text_id:\n",
    "        if i and i[-1] != target_vocab['<EOS>']:\n",
    "            i += [target_vocab['<EOS>']]\n",
    "    \n",
    "    return input_text_id, target_text_id\n",
    "    \n"
   ]
  },
  {
   "cell_type": "code",
   "execution_count": 27,
   "metadata": {
    "collapsed": false,
    "deletable": true,
    "editable": true
   },
   "outputs": [],
   "source": [
    "def preprocess():\n",
    "    return pickle.load(open('preprocess_data.p', mode='rb'))"
   ]
  },
  {
   "cell_type": "code",
   "execution_count": 28,
   "metadata": {
    "collapsed": true,
    "deletable": true,
    "editable": true
   },
   "outputs": [],
   "source": [
    "def save_par(par):\n",
    "    pickle.dump(par, open('par.p', 'wb'))"
   ]
  },
  {
   "cell_type": "code",
   "execution_count": 29,
   "metadata": {
    "collapsed": true,
    "deletable": true,
    "editable": true
   },
   "outputs": [],
   "source": [
    "def load_par():\n",
    "    return pickle.load(open('par.p', mode='rb'))"
   ]
  },
  {
   "cell_type": "code",
   "execution_count": 30,
   "metadata": {
    "collapsed": false,
    "deletable": true,
    "editable": true
   },
   "outputs": [
    {
     "name": "stdout",
     "output_type": "stream",
     "text": [
      "Default GPU Device: /gpu:0\n"
     ]
    }
   ],
   "source": [
    "import warnings\n",
    "\n",
    "# Check for a GPU\n",
    "if not tf.test.gpu_device_name():\n",
    "    warnings.warn('No GPU found. Please use a GPU to train your neural network.')\n",
    "else:\n",
    "    print('Default GPU Device: {}'.format(tf.test.gpu_device_name()))"
   ]
  },
  {
   "cell_type": "code",
   "execution_count": 31,
   "metadata": {
    "collapsed": false,
    "deletable": true,
    "editable": true
   },
   "outputs": [],
   "source": [
    "\n",
    "preprocess_data_save(input_path, target_path, text_to_ids)"
   ]
  },
  {
   "cell_type": "code",
   "execution_count": 32,
   "metadata": {
    "collapsed": false,
    "deletable": true,
    "editable": true
   },
   "outputs": [],
   "source": [
    "(input_int, target_int), (source_vocab_int, target_vocab_int), _ = preprocess()"
   ]
  },
  {
   "cell_type": "markdown",
   "metadata": {
    "collapsed": true,
    "deletable": true,
    "editable": true
   },
   "source": [
    "\n",
    "# Building Neural Network\n",
    "\n",
    "\n"
   ]
  },
  {
   "cell_type": "code",
   "execution_count": null,
   "metadata": {
    "collapsed": true,
    "deletable": true,
    "editable": true
   },
   "outputs": [],
   "source": []
  },
  {
   "cell_type": "markdown",
   "metadata": {
    "deletable": true,
    "editable": true
   },
   "source": [
    "# Input"
   ]
  },
  {
   "cell_type": "code",
   "execution_count": 33,
   "metadata": {
    "collapsed": true,
    "deletable": true,
    "editable": true
   },
   "outputs": [],
   "source": [
    "def model():\n",
    "    inputs = tf.placeholder(dtype=tf.int32, shape=[None, None], name='inputs')\n",
    "    target = tf.placeholder(dtype=tf.int32, shape=[None, None], name='target')\n",
    "    learn_rate = tf.placeholder(tf.float32)\n",
    "    keep_prob = tf.placeholder(tf.float32, name='keep_prob') #probability that each element is kept\n",
    "\n",
    "    return inputs, target, learn_rate, keep_prob"
   ]
  },
  {
   "cell_type": "code",
   "execution_count": 34,
   "metadata": {
    "collapsed": true,
    "deletable": true,
    "editable": true
   },
   "outputs": [],
   "source": [
    "##Decoding Input"
   ]
  },
  {
   "cell_type": "code",
   "execution_count": 35,
   "metadata": {
    "collapsed": false,
    "deletable": true,
    "editable": true
   },
   "outputs": [],
   "source": [
    "def decoding_input(target_data, target_vocab_int, batch_size):\n",
    "    \n",
    "    target_batches = tf.strided_slice(target_data, [0, 0], [batch_size, -1], [1, 1])\n",
    "    decoder_input = tf.concat([tf.fill([batch_size, 1], target_vocab_int['<GO>']), target_batches], 1)\n",
    "    \n",
    "    return decoder_input"
   ]
  },
  {
   "cell_type": "code",
   "execution_count": 36,
   "metadata": {
    "collapsed": false,
    "deletable": true,
    "editable": true
   },
   "outputs": [],
   "source": [
    "def encoding(rnn_input, rnn_size, num_layers, keep_prob):\n",
    "    \n",
    "    #encoder_cell = tf.contrib.rnn.LSTMCell(rnn_size)\n",
    "    encoder_cell = tf.contrib.rnn.MultiRNNCell([tf.contrib.rnn.BasicLSTMCell(rnn_size) for _ in range(num_layers)])\n",
    "    _, encoder_state = tf.nn.dynamic_rnn(encoder_cell, rnn_input, dtype=tf.float32)\n",
    "    return encoder_state"
   ]
  },
  {
   "cell_type": "markdown",
   "metadata": {
    "deletable": true,
    "editable": true
   },
   "source": [
    "# Decoder Logits"
   ]
  },
  {
   "cell_type": "code",
   "execution_count": 37,
   "metadata": {
    "collapsed": false,
    "deletable": true,
    "editable": true
   },
   "outputs": [],
   "source": [
    "def decoder_logits(encoder_state, decoder_cell, decoder_embedded_input, seq_len, decoding_scope,\n",
    "                  output_layer, keep_prob):\n",
    "    \n",
    "    #train_decoder = tf.contrib.legacy_seq2seq.dynamic_rnn_decoder(encoder_state)\n",
    "    #contrib/seq2seq/python/ops/decoder_fn\n",
    "    \n",
    "    train_decoder = tf.contrib.seq2seq.simple_decoder_fn_train(encoder_state)\n",
    "    train_pred, _, _ = tf.contrib.seq2seq.dynamic_rnn_decoder(decoder_cell, train_decoder, decoder_embedded_input,\n",
    "                                                             seq_len, scope=decoding_scope)\n",
    "    \n",
    "    train_logits = output_layer(train_pred)\n",
    "    train_logits = tf.nn.dropout(train_logits, keep_prob)\n",
    "    \n",
    "    return train_logits\n",
    "    \n",
    "    \n",
    "    "
   ]
  },
  {
   "cell_type": "code",
   "execution_count": 38,
   "metadata": {
    "collapsed": false,
    "deletable": true,
    "editable": true
   },
   "outputs": [],
   "source": [
    "def decoder_layer_logits(encoder_state, decoder_cell, decoder_embedded_input, seq_len, decoding_scope,\n",
    "                  output_layer, keep_prob):\n",
    "    \n",
    "    decoder_cell = tf.contrib.rnn.LSTMCell(decoder_hidden_units)\n",
    "\n",
    "    decoder_outputs, decoder_final_state = tf.nn.dynamic_rnn(\n",
    "    decoder_cell, decoder_embedded_input,\n",
    "\n",
    "    initial_state=encoder_state,\n",
    "\n",
    "    dtype=tf.float32, time_major=True, scope=\"plain_decoder\",)\n",
    "    \n",
    "    decoder_logits = tf.contrib.layers.linear(decoder_outputs, seq_len)\n",
    "    decoder_prediction = tf.argmax(decoder_logits, 2)\n",
    "    \n",
    "    "
   ]
  },
  {
   "cell_type": "code",
   "execution_count": 39,
   "metadata": {
    "collapsed": false,
    "deletable": true,
    "editable": true
   },
   "outputs": [
    {
     "name": "stdout",
     "output_type": "stream",
     "text": [
      "['__builtins__', '__doc__', '__file__', '__name__', '__package__', '__path__', '_allowed_symbols', 'attention_decoder_fn_inference', 'attention_decoder_fn_train', 'dynamic_rnn_decoder', 'prepare_attention', 'sequence_loss', 'simple_decoder_fn_inference', 'simple_decoder_fn_train']\n"
     ]
    }
   ],
   "source": [
    "tf.__version__\n",
    "print(dir(tf.contrib.seq2seq))"
   ]
  },
  {
   "cell_type": "code",
   "execution_count": null,
   "metadata": {
    "collapsed": false,
    "deletable": true,
    "editable": true
   },
   "outputs": [],
   "source": []
  },
  {
   "cell_type": "markdown",
   "metadata": {
    "deletable": true,
    "editable": true
   },
   "source": [
    "# Decoding Inference"
   ]
  },
  {
   "cell_type": "code",
   "execution_count": 40,
   "metadata": {
    "collapsed": false,
    "deletable": true,
    "editable": true
   },
   "outputs": [],
   "source": [
    "def decoding_layer_inference(encoder_state, decoder_cell, decoder_embeddings, start_seq_id, end_seq_id, \n",
    "                   maximum_len, vocab_size, decoding_scope, output_layer, prob):\n",
    "    \n",
    "    inference_decoder = tf.contrib.seq2seq.simple_decoder_fn_inference(output_layer, encoder_state,\n",
    "                                                                       decoder_embeddings, start_seq_id, end_seq_id,\n",
    "                                                                       maximum_len - 1, vocab_size)\n",
    "    inference_logits, _, _ = tf.contrib.seq2seq.dynamic_rnn_decoder(decoder_cell, inference_decoder,\n",
    "                                                                    scope=decoding_scope)\n",
    "    \n",
    "    inference_logits = tf.nn.dropout(inference_logits, prob)\n",
    "    return inference_logits\n",
    "\n"
   ]
  },
  {
   "cell_type": "markdown",
   "metadata": {
    "deletable": true,
    "editable": true
   },
   "source": [
    "# Building the Decoding Layer"
   ]
  },
  {
   "cell_type": "code",
   "execution_count": 41,
   "metadata": {
    "collapsed": false,
    "deletable": true,
    "editable": true
   },
   "outputs": [],
   "source": [
    "def decoding_layer(decoder_embedded_input, decoder_embeddings, encoder_state, vocab_size, \n",
    "                   seq_len, rnn_size, num_layers, target_vocab_int, prob):\n",
    "    \n",
    "    #decoder_cell = tf.contrib.rnn.LSTMCell(decoder_hidden_units)\n",
    "    decoder_cell = tf.contrib.rnn.MultiRNNCell([tf.contrib.rnn.BasicLSTMCell(rnn_size) for _ in range(num_layers)])\n",
    "    #decoder_cell_inf = tf.contrib.rnn.MultiRNNCell([tf.contrib.rnn.BasicLSTMCell(rnn_size) for layer in range(num_layers)])\n",
    "    \n",
    "    with tf.variable_scope(\"decoding\") as decoding_scope:\n",
    "        output_layer = lambda x:tf.contrib.layers.fully_connected(x, vocab_size, None, scope=decoding_scope)\n",
    "        \n",
    "        train_logits = decoder_logits(encoder_state, decoder_cell, decoder_embedded_input, \n",
    "                                            seq_len, decoding_scope, output_layer, prob)\n",
    "   \n",
    "    with tf.variable_scope(\"decoding\", reuse=True) as decoding_scope_inf:\n",
    "        decoding_scope.reuse_variables()\n",
    "        inference_logits = decoding_layer_inference(encoder_state, decoder_cell, decoder_embeddings, \n",
    "                                                    target_vocab_int['<GO>'], target_vocab_int['<EOS>'], seq_len,\n",
    "                                                   vocab_size, decoding_scope, output_layer, prob)\n",
    "    return train_logits, inference_logits\n",
    "\n",
    "    "
   ]
  },
  {
   "cell_type": "markdown",
   "metadata": {
    "deletable": true,
    "editable": true
   },
   "source": [
    "# Building Neural Network"
   ]
  },
  {
   "cell_type": "code",
   "execution_count": 42,
   "metadata": {
    "collapsed": true,
    "deletable": true,
    "editable": true
   },
   "outputs": [],
   "source": [
    "def seq2seq_model(input_data, target_data, keep_prob, batch_size, seq_len, input_vocab_size, target_vocab_size, \n",
    "                  encoder_embedding_size, decoder_embedding_size, rnn_size, num_layers, target_vocab_int):\n",
    "    \n",
    "    \n",
    "    #Encoder Embedding\n",
    "    encoder_embedding_input = tf.contrib.layers.embed_sequence(input_data, input_vocab_size, encoder_embedding_size)\n",
    "    encoding_state = encoding(encoder_embedding_input, rnn_size, num_layers, keep_prob)\n",
    "    processed_target_data = decoding_input(target_data, target_vocab_int, batch_size)\n",
    "    \n",
    "    #Decoding Embedding\n",
    "    decoder_embedding = tf.Variable(tf.random_uniform([target_vocab_size, decoder_embedding_size]))\n",
    "    decoder_embed_input = tf.nn.embedding_lookup(decoder_embedding, processed_target_data)\n",
    "    \n",
    "    train_logits, inference_logits = decoding_layer(decoder_embed_input, decoder_embedding, encoding_state,\n",
    "                                                    target_vocab_size, seq_len, rnn_size, num_layers,\n",
    "                                                    target_vocab_int, keep_prob)\n",
    "    \n",
    "    return train_logits, inference_logits\n",
    "\n",
    "    "
   ]
  },
  {
   "cell_type": "markdown",
   "metadata": {
    "deletable": true,
    "editable": true
   },
   "source": [
    "# Training Neural Network"
   ]
  },
  {
   "cell_type": "code",
   "execution_count": 43,
   "metadata": {
    "collapsed": true,
    "deletable": true,
    "editable": true
   },
   "outputs": [],
   "source": [
    "epochs = 3\n",
    "batch_size = 256\n",
    "rnn_size = 75\n",
    "num_layers = 2\n",
    "encoding_embedding_size = 128\n",
    "decoding_embedding_size = 128\n",
    "\n",
    "learning_rate = 0.005\n",
    "keep_probability = 0.5\n",
    "\n",
    "\n",
    "\n",
    "\n"
   ]
  },
  {
   "cell_type": "code",
   "execution_count": 44,
   "metadata": {
    "collapsed": false,
    "deletable": true,
    "editable": true
   },
   "outputs": [],
   "source": [
    "#_, (source_vocab_int, target_vocab_int),  (source_int_to_vocab, target_int_to_vocab) = preprocess()\n",
    "#print(target_int_to_vocab[:1000])"
   ]
  },
  {
   "cell_type": "markdown",
   "metadata": {
    "deletable": true,
    "editable": true
   },
   "source": [
    "# Building the Graph"
   ]
  },
  {
   "cell_type": "code",
   "execution_count": 45,
   "metadata": {
    "collapsed": false,
    "deletable": true,
    "editable": true
   },
   "outputs": [],
   "source": [
    "save_path = 'checkpoints/dev'\n",
    "(input_int, target_int), (input_vocab_int, target_vocab_int), _ = preprocess()\n",
    "longest_seq_input = max([len(seq) for seq in input_int])\n",
    "\n",
    "train_graph = tf.Graph()\n",
    "with train_graph.as_default():\n",
    "    input_data, targets, lr,  keep_prob = model()\n",
    "    seq_len = tf.placeholder_with_default(longest_seq_input, None, name='seq_len')\n",
    "    input_shape = tf.shape(input_data)\n",
    "    train_logits, inference_logits = seq2seq_model(tf.reverse(input_data, [-1]), targets, keep_prob, batch_size, seq_len,\n",
    "                                                             len(input_vocab_int), len(target_vocab_int), \n",
    "                                                             encoding_embedding_size, decoding_embedding_size, \n",
    "                                                             rnn_size, num_layers, target_vocab_int)\n",
    "    tf.identity(inference_logits, 'logits')\n",
    "    with tf.name_scope(\"optimization\"):\n",
    "        #loss\n",
    "        loss = tf.contrib.seq2seq.sequence_loss(train_logits, targets, tf.ones([input_shape[0], seq_len]))\n",
    "        train_op = tf.train.AdamOptimizer(lr).minimize(loss)\n",
    "        #optimizer = tf.train.AdamOptimizer(lr)\n",
    "        #gradients = optimizer.compute_gradients(loss)\n",
    "        #gradients_ = [(tf.clip_by_value(grad, -1., 1.), var) for grad, var in gradients if grad is not None]\n",
    "        #train_op = optimizer_apply_gradients(gradients_)\n",
    "    \n",
    "    "
   ]
  },
  {
   "cell_type": "code",
   "execution_count": 46,
   "metadata": {
    "collapsed": false,
    "deletable": true,
    "editable": true
   },
   "outputs": [],
   "source": [
    "import time\n",
    "\n",
    "def get_accuracy(target, logits):\n",
    "    x = target.shape[1]\n",
    "    y = logits.shape[1]\n",
    "    longest_seq = max(x, y)\n",
    "    if longest_seq - x:\n",
    "        target = np.pad(target, [(0,0), (0, longest_seq - x)], 'constant')\n",
    "    if longest_seq - y:\n",
    "        logits = np.pad(logits, [(0,0), (0, longest_seq - y), (0,0)], 'constant')\n",
    "    return np.mean(np.equal(target, np.argmax(logits, 2)))"
   ]
  },
  {
   "cell_type": "markdown",
   "metadata": {
    "deletable": true,
    "editable": true
   },
   "source": [
    "## Train the Neural Network"
   ]
  },
  {
   "cell_type": "code",
   "execution_count": 47,
   "metadata": {
    "collapsed": true,
    "deletable": true,
    "editable": true
   },
   "outputs": [],
   "source": [
    "loss_hist = []"
   ]
  },
  {
   "cell_type": "code",
   "execution_count": 48,
   "metadata": {
    "collapsed": false,
    "deletable": true,
    "editable": true
   },
   "outputs": [],
   "source": [
    "logs_path = \"/cesar/home/Desktop/Final_NN/logs\"\n",
    "#tf.scalar_summary(\"logits\", logits)\n",
    "#summary_op = tf.merge_all_summaries()\n",
    "\n",
    "#tf.summary.histogram(\"logits\", logits)"
   ]
  },
  {
   "cell_type": "code",
   "execution_count": 49,
   "metadata": {
    "collapsed": false,
    "deletable": true,
    "editable": true
   },
   "outputs": [
    {
     "name": "stdout",
     "output_type": "stream",
     "text": [
      "Epoch   0 Batch    0/538 - Train Accuracy:  0.234, Validation Accuracy:  0.316, Loss:  5.872\n",
      "Epoch   0 Batch  100/538 - Train Accuracy:  0.418, Validation Accuracy:  0.461, Loss:  3.439\n",
      "Epoch   0 Batch  200/538 - Train Accuracy:  0.546, Validation Accuracy:  0.562, Loss:  3.122\n",
      "Epoch   0 Batch  300/538 - Train Accuracy:  0.640, Validation Accuracy:  0.634, Loss:  2.953\n",
      "Epoch   0 Batch  400/538 - Train Accuracy:  0.675, Validation Accuracy:  0.675, Loss:  2.994\n",
      "Epoch   0 Batch  500/538 - Train Accuracy:  0.755, Validation Accuracy:  0.718, Loss:  2.850\n",
      "Epoch   1 Batch    0/538 - Train Accuracy:  0.750, Validation Accuracy:  0.727, Loss:  2.871\n",
      "Epoch   1 Batch  100/538 - Train Accuracy:  0.796, Validation Accuracy:  0.799, Loss:  2.775\n",
      "Epoch   1 Batch  200/538 - Train Accuracy:  0.853, Validation Accuracy:  0.839, Loss:  2.743\n",
      "Epoch   1 Batch  300/538 - Train Accuracy:  0.865, Validation Accuracy:  0.847, Loss:  2.736\n",
      "Epoch   1 Batch  400/538 - Train Accuracy:  0.879, Validation Accuracy:  0.869, Loss:  2.656\n",
      "Epoch   1 Batch  500/538 - Train Accuracy:  0.921, Validation Accuracy:  0.886, Loss:  2.690\n",
      "Epoch   2 Batch    0/538 - Train Accuracy:  0.894, Validation Accuracy:  0.906, Loss:  2.698\n",
      "Epoch   2 Batch  100/538 - Train Accuracy:  0.913, Validation Accuracy:  0.901, Loss:  2.685\n",
      "Epoch   2 Batch  200/538 - Train Accuracy:  0.928, Validation Accuracy:  0.898, Loss:  2.714\n",
      "Epoch   2 Batch  300/538 - Train Accuracy:  0.913, Validation Accuracy:  0.921, Loss:  2.602\n",
      "Epoch   2 Batch  400/538 - Train Accuracy:  0.928, Validation Accuracy:  0.906, Loss:  2.650\n",
      "Epoch   2 Batch  500/538 - Train Accuracy:  0.944, Validation Accuracy:  0.919, Loss:  2.617\n",
      "Model Trained and Saved\n"
     ]
    }
   ],
   "source": [
    "source_train = input_int[batch_size:]\n",
    "target_train = target_int[batch_size:]\n",
    "\n",
    "source_val = hp.pad_batch(input_int[:batch_size])\n",
    "target_val = hp.pad_batch(target_int[:batch_size])\n",
    "#test_writer = tf.histogram_summary(\"loss\", loss)\n",
    "#writer = tf.train.SummaryWriter(logs_path, graph=tf.get_default_graph())\n",
    "with tf.Session(graph=train_graph) as sess:\n",
    "    sess.run(tf.global_variables_initializer())\n",
    "    #writer = tf.train.SummaryWriter(logs_path, graph=tf.get_default_graph())\n",
    "    for epoch in range(epochs):\n",
    "        for batch, (source_batch, target_batch) in enumerate(hp.batch_data(source_train,\n",
    "                                                                               target_train, batch_size)):\n",
    "            \n",
    "            start = time.time()\n",
    "            _, loss_ = sess.run([train_op, loss], {input_data: source_batch, targets: target_batch, lr:learning_rate,\n",
    "                                                 seq_len: target_batch.shape[1], keep_prob: keep_probability})\n",
    "            batch_train_logits = sess.run(inference_logits, {input_data:source_batch, keep_prob:1.0})\n",
    "            batch_valid_logits = sess.run(inference_logits, {input_data:source_val, keep_prob:1.0})\n",
    "            \n",
    "            #test_writer.add_summary(loss, batch)\n",
    "            \n",
    "            \n",
    "            train = get_accuracy(target_batch, batch_train_logits)\n",
    "            #tf.summary.histogram(\"logits\", train)\n",
    "            valid = get_accuracy(np.array(target_val), batch_valid_logits)\n",
    "            end = time.time()\n",
    "            if batch % 100 == 0:\n",
    "                print('Epoch {:>3} Batch {:>4}/{} - Train Accuracy: {:>6.3f}, Validation Accuracy: {:>6.3f}, Loss: {:>6.3f}'\n",
    "                  .format(epoch, batch, len(input_int) // batch_size, train, valid, loss_))\n",
    "            loss_hist.append(loss_)\n",
    "            #writer.add_summary(train_logits, epoch * batch_count + i)\n",
    "            \n",
    "\n",
    "    # Save Model\n",
    "    saver = tf.train.Saver()\n",
    "    saver.save(sess, save_path)\n",
    "    print('Model Trained and Saved')\n",
    "            \n",
    "            \n",
    "            \n",
    "        \n",
    "        \n",
    "        \n"
   ]
  },
  {
   "cell_type": "code",
   "execution_count": 50,
   "metadata": {
    "collapsed": false,
    "deletable": true,
    "editable": true
   },
   "outputs": [
    {
     "data": {
      "image/png": "[encoded data removed]",
      "text/plain": [
       "<matplotlib.figure.Figure at 0x7f2e68692b90>"
      ]
     },
     "metadata": {},
     "output_type": "display_data"
    }
   ],
   "source": [
    "plt.plot(loss_hist)\n",
    "plt.ylabel('Loss')\n",
    "plt.xlabel('iterations')\n",
    "plt.show()\n",
    "#print(loss_hist)\n"
   ]
  },
  {
   "cell_type": "code",
   "execution_count": null,
   "metadata": {
    "collapsed": true,
    "deletable": true,
    "editable": true
   },
   "outputs": [],
   "source": []
  },
  {
   "cell_type": "code",
   "execution_count": 51,
   "metadata": {
    "collapsed": true,
    "deletable": true,
    "editable": true
   },
   "outputs": [],
   "source": [
    "def seq_to_seq(sent, vocab_int):\n",
    "    word_id = [vocab_int.get(word, vocab_int['<UNK>']) for word in sent.split()]\n",
    "    return word_id\n",
    "    "
   ]
  },
  {
   "cell_type": "code",
   "execution_count": 52,
   "metadata": {
    "collapsed": true,
    "deletable": true,
    "editable": true
   },
   "outputs": [],
   "source": [
    "def save_params(params):\n",
    "    \"\"\"\n",
    "    Save parameters to file\n",
    "    \"\"\"\n",
    "    pickle.dump(params, open('params.p', 'wb'))\n"
   ]
  },
  {
   "cell_type": "code",
   "execution_count": 53,
   "metadata": {
    "collapsed": true,
    "deletable": true,
    "editable": true
   },
   "outputs": [],
   "source": [
    "def load_params():\n",
    "    \"\"\"\n",
    "    Load parameters from file\n",
    "    \"\"\"\n",
    "    return pickle.load(open('params.p', mode='rb'))\n"
   ]
  },
  {
   "cell_type": "code",
   "execution_count": 54,
   "metadata": {
    "collapsed": false,
    "deletable": true,
    "editable": true
   },
   "outputs": [],
   "source": [
    "save_params(save_path)"
   ]
  },
  {
   "cell_type": "code",
   "execution_count": 55,
   "metadata": {
    "collapsed": false,
    "deletable": true,
    "editable": true
   },
   "outputs": [],
   "source": [
    "_, (source_vocab_int, target_vocab_int),  (source_int_to_vocab, target_int_to_vocab) = preprocess()\n",
    "#load_path = load_par()\n",
    "load_path = load_params()\n",
    "\n",
    "#(input_int, target_int), (source_vocab_int, target_vocab_int), _ = preprocess()\n",
    "#(source_int_text, target_int_text), (source_vocab_to_int, target_vocab_to_int), _ = helper.load_preprocess()"
   ]
  },
  {
   "cell_type": "code",
   "execution_count": null,
   "metadata": {
    "collapsed": false,
    "deletable": true,
    "editable": true
   },
   "outputs": [],
   "source": [
    "#print(target_int_to_vocab)"
   ]
  },
  {
   "cell_type": "code",
   "execution_count": 70,
   "metadata": {
    "collapsed": false
   },
   "outputs": [],
   "source": [
    "%run ./traininig.py"
   ]
  },
  {
   "cell_type": "code",
   "execution_count": 72,
   "metadata": {
    "collapsed": false
   },
   "outputs": [
    {
     "name": "stdout",
     "output_type": "stream",
     "text": [
      "\n",
      "JANUARY\n",
      "\n"
     ]
    }
   ],
   "source": [
    "import traininig as tt\n",
    "x = tt.func()"
   ]
  },
  {
   "cell_type": "code",
   "execution_count": 75,
   "metadata": {
    "collapsed": false
   },
   "outputs": [
    {
     "name": "stdout",
     "output_type": "stream",
     "text": [
      "january\n"
     ]
    }
   ],
   "source": [
    "x = x.lower()\n",
    "print(x)"
   ]
  },
  {
   "cell_type": "code",
   "execution_count": 76,
   "metadata": {
    "collapsed": false,
    "deletable": true,
    "editable": true,
    "scrolled": true
   },
   "outputs": [
    {
     "name": "stdout",
     "output_type": "stream",
     "text": [
      "INFO:tensorflow:Restoring parameters from checkpoints/dev\n"
     ]
    },
    {
     "name": "stderr",
     "output_type": "stream",
     "text": [
      "INFO:tensorflow:Restoring parameters from checkpoints/dev\n"
     ]
    },
    {
     "name": "stdout",
     "output_type": "stream",
     "text": [
      "Input\n",
      "Words ids:       [54]\n",
      "English words:   ['january']\n",
      "\n",
      "Prediction\n",
      "Words ids:       [133, 42, 257, 1]\n",
      "French words:   ['en', 'f\\xc3\\xa9vrier', '.', '<EOS>']\n"
     ]
    }
   ],
   "source": [
    "translate = 'january .'\n",
    "#import ptf.import_graph_def.\n",
    "translate = seq_to_seq(x, source_vocab_int)\n",
    "loaded_graph = tf.Graph()\n",
    "with tf.Session(graph=loaded_graph) as sess:\n",
    "    loader = tf.train.import_meta_graph(load_path + '.meta')\n",
    "    loader.restore(sess, load_path)\n",
    "    \n",
    "    input_data = loaded_graph.get_tensor_by_name('inputs:0')\n",
    "    logits = loaded_graph.get_tensor_by_name('logits:0')\n",
    "    keep_prob = loaded_graph.get_tensor_by_name('keep_prob:0')\n",
    "    \n",
    "    translate_logits = sess.run(logits, {input_data: [translate], keep_prob: 1.0})[0]\n",
    "    \n",
    "print('Input')\n",
    "print('Words ids:       {}'. format([ids for ids in translate]))\n",
    "print('English words:   {}'. format([source_int_to_vocab[i] for i in translate]))\n",
    "\n",
    "\n",
    "print('\\nPrediction')\n",
    "print('Words ids:       {}'. format([i for i in np.argmax(translate_logits, 1)]))\n",
    "print('French words:   {}'. format([target_int_to_vocab[i] for i in np.argmax(translate_logits, 1)]))\n",
    "\n",
    "\n",
    "    \n",
    "    \n",
    "    \n",
    "    \n"
   ]
  },
  {
   "cell_type": "code",
   "execution_count": null,
   "metadata": {
    "collapsed": true
   },
   "outputs": [],
   "source": []
  },
  {
   "cell_type": "code",
   "execution_count": 8,
   "metadata": {
    "collapsed": false,
    "deletable": true,
    "editable": true
   },
   "outputs": [],
   "source": [
    "#import get_str as st"
   ]
  },
  {
   "cell_type": "code",
   "execution_count": 7,
   "metadata": {
    "collapsed": false,
    "deletable": true,
    "editable": true
   },
   "outputs": [],
   "source": [
    "#import TrainAndTest as tt"
   ]
  },
  {
   "cell_type": "code",
   "execution_count": 6,
   "metadata": {
    "collapsed": false,
    "deletable": true,
    "editable": true
   },
   "outputs": [],
   "source": [
    "#%run ./TrainAndTest.py"
   ]
  },
  {
   "cell_type": "code",
   "execution_count": null,
   "metadata": {
    "collapsed": true,
    "deletable": true,
    "editable": true
   },
   "outputs": [],
   "source": []
  },
  {
   "cell_type": "code",
   "execution_count": null,
   "metadata": {
    "collapsed": true,
    "deletable": true,
    "editable": true
   },
   "outputs": [],
   "source": []
  }
 ],
 "metadata": {
  "kernelspec": {
   "display_name": "Python 2",
   "language": "python",
   "name": "python2"
  },
  "language_info": {
   "codemirror_mode": {
    "name": "ipython",
    "version": 2
   },
   "file_extension": ".py",
   "mimetype": "text/x-python",
   "name": "python",
   "nbconvert_exporter": "python",
   "pygments_lexer": "ipython2",
   "version": "2.7.13"
  }
 },
 "nbformat": 4,
 "nbformat_minor": 2
}
